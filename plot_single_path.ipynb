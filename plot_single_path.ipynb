{
 "cells": [
  {
   "cell_type": "markdown",
   "id": "c96632b9-a78c-4b02-acb9-6931aab47fc1",
   "metadata": {},
   "source": [
    "# Example: plot individual paths in dataset"
   ]
  },
  {
   "cell_type": "markdown",
   "id": "a47267d0-7729-46b2-b4b2-1b11202f8105",
   "metadata": {},
   "source": [
    "In this notebook I load the dataset, and set up an interactive plot that will show any larva path in the dataset. When the arena is composed of two or eight food patches, the location of the patches is also displayed."
   ]
  },
  {
   "cell_type": "markdown",
   "id": "b810c70e-9583-44d9-bc46-f9d4f3b7171c",
   "metadata": {},
   "source": [
    "## Initialize and read dataset"
   ]
  },
  {
   "cell_type": "code",
   "execution_count": null,
   "id": "48feffd8-32cf-401d-99af-3619d10aa95a",
   "metadata": {},
   "outputs": [],
   "source": [
    "import numpy as np\n",
    "import pandas as pd\n",
    "import matplotlib.pyplot as plt\n",
    "import pathlib\n",
    "import ipywidgets as widgets\n",
    "\n",
    "path_read = pathlib.Path('data_all_rdp.pkl.xz') \n",
    "\n",
    "assert path_read.is_file(), f\"\\nFile `{path_read}` does not exist ! \\n ** Please make sure you have run `preprocess_data.py`**\"\n",
    "data_all = pd.read_pickle(path_read)\n",
    "data_all = data_all.sort_index()\n",
    "\n",
    "arenas = ['Homogeneous', 'Two', 'Eight', 'Nonnutrient']\n",
    "substrates = ['Sucrose','Yeast','Agar','Gel','Apple_juice']\n",
    "larvae = ['Rover','Sitter','Anosmic']\n",
    "experiments = ['exp1','exp2','exp3']"
   ]
  },
  {
   "cell_type": "markdown",
   "id": "47170fca-a135-4bc1-be86-6eef42de7341",
   "metadata": {},
   "source": [
    "## Main functions to plot the trajectory for a single larva"
   ]
  },
  {
   "cell_type": "code",
   "execution_count": null,
   "id": "126665e5-927f-4755-bcc9-5ea128629450",
   "metadata": {},
   "outputs": [],
   "source": [
    "def color_selector(arena,substrate,larva):\n",
    "    \"\"\"\n",
    "    Select color based on substrate.\n",
    "    \"\"\"\n",
    "    if substrate == 'Yeast':\n",
    "        return 'tab:orange'\n",
    "    elif substrate == 'Sucrose':\n",
    "        return 'tab:green'\n",
    "    elif substrate == 'Agar':\n",
    "        return 'tab:blue'\n",
    "    elif substrate == 'Apple_juice':\n",
    "        return 'tab:pink'\n",
    "    elif (arena == 'Nonnutrient') and (substrate == 'Agar'):\n",
    "        return 'tab:gray'\n",
    "    elif (arena == 'Nonnutrient') and (substrate == 'Gel'):\n",
    "        return 'tab:olive'\n",
    "\n",
    "def get_selection(data_all,arena,substrate,larva,exp,singlelarva):\n",
    "    \"\"\"\n",
    "    Selects a specific trajectory in the dataframe `data_all`\n",
    "    \"\"\"\n",
    "    if (arena,substrate,larva,exp,singlelarva) in data_all.index:\n",
    "        return data_all.loc[arena,substrate,larva,exp,singlelarva]\n",
    "    else:\n",
    "        return None\n",
    "\n",
    "def plot_one_trajectory(arena,substrate,larva,exp,singlelarva):\n",
    "    \"\"\"\n",
    "    Plots the trajectory of the single larva specified in the arguments. \n",
    "    Returns None if the larva does not exist.\n",
    "    \n",
    "    Turning points are indicated by circles.\n",
    "    \"\"\"\n",
    "    mydf = get_selection(data_all,arena,substrate,larva,exp,singlelarva)\n",
    "    if mydf is None:\n",
    "        return None\n",
    "    col_box = color_selector(arena,substrate,larva) \n",
    "    fig = plt.figure(figsize=(10,10))\n",
    "    xplot = mydf.x\n",
    "    idxkeep = ~np.isnan(xplot)\n",
    "    xplot=xplot[idxkeep]\n",
    "    yplot = mydf.y[idxkeep]\n",
    "    idx_turns = mydf.idx_turn_points\n",
    "    xturns = mydf.x[idx_turns]\n",
    "    yturns = mydf.y[idx_turns]\n",
    "    ax = fig.add_subplot(1, 1, 1)\n",
    "    ax.set_aspect(1)\n",
    "    ax.set_xlim(0,275)\n",
    "    ax.set_ylim(0,275)\n",
    "    ax.plot(xplot,yplot,color='black',alpha=0.4) # plots full trajectory\n",
    "    ax.scatter(xturns,yturns,marker='o',color=col_box) # plots turns\n",
    "    ax.set_title(f'{arena} {substrate} {larva} {exp} {singlelarva}')\n",
    "    if arena == 'Two':\n",
    "        scale = 1 # number of pixels per mm\n",
    "        patch_info =mydf.patch_info\n",
    "        circle1 = plt.Circle((patch_info[0][0]/scale, patch_info[0][1]/scale), patch_info[0][2]/scale, color=col_box, alpha=0.2)\n",
    "        circle2 = plt.Circle((patch_info[1][0]/scale, patch_info[1][1]/scale), patch_info[1][2]/scale, color=col_box, alpha=0.2)\n",
    "        ax.add_patch(circle1)\n",
    "        ax.add_patch(circle2)\n",
    "    elif arena == 'Eight':\n",
    "        scale = 1 # number of pixels per mm\n",
    "        patch_info =mydf.patch_info\n",
    "        for K in range(8):\n",
    "            cirKle = plt.Circle((patch_info[K][0]/scale, patch_info[K][1]/scale), patch_info[K][2]/scale, color=col_box, alpha=0.2)\n",
    "            ax.add_patch(cirKle)\n",
    "        \n",
    "    return fig\n"
   ]
  },
  {
   "cell_type": "markdown",
   "id": "9034d785-0ba8-42c6-bf83-e33c7a7a2470",
   "metadata": {},
   "source": [
    "## Interactive plot\n",
    "The script below generates an interactive menu that allows only to select the larvae that are included in the dataframe."
   ]
  },
  {
   "cell_type": "code",
   "execution_count": null,
   "id": "e2561320-dac2-48ce-b54b-bb632d287c03",
   "metadata": {},
   "outputs": [],
   "source": [
    "\n",
    "def get_possible_substrates(data_all,arena):\n",
    "    df_are = data_all.loc[arena]\n",
    "    return df_are.index.get_level_values(0).unique()\n",
    "\n",
    "def get_possible_larvae(data_all,arena,substrate):\n",
    "    df_sub = data_all.loc[arena,substrate]\n",
    "    return df_sub.index.get_level_values(0).unique()\n",
    "\n",
    "def get_possible_experiments(data_all,arena,substrate,larva):\n",
    "    df_lar = data_all.loc[arena,substrate,larva]\n",
    "    return df_lar.index.get_level_values(0).unique()\n",
    "\n",
    "def get_possible_singlelarva(data_all,arena,substrate,larva,experiment):\n",
    "    df_singlelarva = data_all.loc[arena,substrate,larva,experiment]\n",
    "    return df_singlelarva.index.get_level_values(0).unique()\n",
    "\n",
    "def set_menu_subs(change):\n",
    "    menu_subs.options = get_possible_substrates(data_all,change['new'])\n",
    "def set_menu_larvae(change):\n",
    "    menu_larvae.options = get_possible_larvae(data_all,menu_are.value,change['new'])\n",
    "def set_menu_exps(change):\n",
    "    menu_exps.options = get_possible_experiments(data_all,menu_are.value,menu_subs.value,change['new'])\n",
    "def set_menu_singlelarva(change):\n",
    "    menu_singlelarva.options = get_possible_singlelarva(data_all,menu_are.value,menu_subs.value,menu_larvae.value,change['new']) \n",
    "\n",
    "\n",
    "menu_are = widgets.Dropdown(options=arenas)\n",
    "menu_are.observe(set_menu_subs, names='value')\n",
    "\n",
    "menu_subs = widgets.Dropdown(options=[])\n",
    "menu_subs.observe(set_menu_larvae, names='value')\n",
    "\n",
    "menu_larvae = widgets.Dropdown(options=[])\n",
    "menu_larvae.observe(set_menu_exps, names='value')\n",
    "\n",
    "menu_exps= widgets.Dropdown(options=[])\n",
    "menu_exps.observe(set_menu_singlelarva, names='value')\n",
    "\n",
    "menu_singlelarva= widgets.Dropdown(options=[])\n",
    "\n",
    "\n",
    "allmenus = widgets.Box(children=[menu_are,menu_subs,menu_larvae,menu_exps,menu_singlelarva])\n",
    "\n",
    "\n",
    "thesingleplot = widgets.interactive_output(plot_one_trajectory,{'arena':menu_are,'substrate':menu_subs,'larva':menu_larvae,'exp':menu_exps,'singlelarva':menu_singlelarva})\n",
    "\n",
    "display(allmenus,thesingleplot)\n"
   ]
  },
  {
   "cell_type": "code",
   "execution_count": null,
   "id": "c0abe18f-ced4-45d4-9d2a-d1e52765ccad",
   "metadata": {},
   "outputs": [],
   "source": [
    "# test a single larva, dataframe and plot\n",
    "# dftest = get_selection(data_all,'Two','Yeast','Sitter','exp1','L1')\n",
    "# plot_one_trajectory('Two','Yeast','Sitter','exp1','L1')"
   ]
  },
  {
   "cell_type": "code",
   "execution_count": null,
   "id": "6465cd87-a9f1-440e-a414-bc0c34077a7a",
   "metadata": {},
   "outputs": [],
   "source": []
  }
 ],
 "metadata": {
  "jupytext": {
   "formats": "ipynb,auto:percent"
  },
  "kernelspec": {
   "display_name": "Python 3 (ipykernel)",
   "language": "python",
   "name": "python3"
  },
  "language_info": {
   "codemirror_mode": {
    "name": "ipython",
    "version": 3
   },
   "file_extension": ".py",
   "mimetype": "text/x-python",
   "name": "python",
   "nbconvert_exporter": "python",
   "pygments_lexer": "ipython3",
   "version": "3.9.15"
  }
 },
 "nbformat": 4,
 "nbformat_minor": 5
}
